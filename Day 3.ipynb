{
 "cells": [
  {
   "cell_type": "code",
   "execution_count": 1,
   "id": "f5c558b1",
   "metadata": {},
   "outputs": [],
   "source": [
    "def letterScore(letter):\n",
    "    if letter.isupper():\n",
    "        return ord(letter) - 38\n",
    "    return ord(letter) - 96"
   ]
  },
  {
   "cell_type": "code",
   "execution_count": 2,
   "id": "179057c9",
   "metadata": {},
   "outputs": [],
   "source": [
    "def commonLetter(string1, string2):\n",
    "    for letter in string1:\n",
    "        if letter in string2:\n",
    "            return letter\n",
    "    return \"\""
   ]
  },
  {
   "cell_type": "code",
   "execution_count": 3,
   "id": "53445f62",
   "metadata": {},
   "outputs": [
    {
     "data": {
      "text/plain": [
       "8298"
      ]
     },
     "execution_count": 3,
     "metadata": {},
     "output_type": "execute_result"
    }
   ],
   "source": [
    "with open(\"Inputs/Day3.txt\", \"r\") as input:\n",
    "    input = input.read()\n",
    "rucksacks = input.split(\"\\n\")\n",
    "scores = []\n",
    "\n",
    "for items in rucksacks:\n",
    "    length_each_rucksack = int(len(items) / 2)\n",
    "    rucksack1 = items[:length_each_rucksack]\n",
    "    rucksack2 = items[length_each_rucksack:]\n",
    "    scores.append(letterScore(commonLetter(rucksack1, rucksack2)))\n",
    "    \n",
    "sum(scores)"
   ]
  },
  {
   "cell_type": "code",
   "execution_count": 4,
   "id": "fb07a53b",
   "metadata": {},
   "outputs": [],
   "source": [
    "def commonLetterThree(string1, string2, string3):\n",
    "    for letter in string1:\n",
    "        if letter in string2 and letter in string3:\n",
    "            return letter\n",
    "\n",
    "    return \"\""
   ]
  },
  {
   "cell_type": "code",
   "execution_count": 5,
   "id": "39c59f0f",
   "metadata": {},
   "outputs": [
    {
     "data": {
      "text/plain": [
       "2708"
      ]
     },
     "execution_count": 5,
     "metadata": {},
     "output_type": "execute_result"
    }
   ],
   "source": [
    "scores_part_2 = []\n",
    "\n",
    "for index in range (0, int(len(rucksacks)/3)):\n",
    "    rucksack1 = rucksacks[index*3]\n",
    "    rucksack2 = rucksacks[index*3 + 1]\n",
    "    rucksack3 = rucksacks[index*3 + 2]\n",
    "    scores_part_2.append(letterScore(commonLetterThree(rucksack1, rucksack2, rucksack3)))\n",
    "sum(scores_part_2)"
   ]
  }
 ],
 "metadata": {
  "kernelspec": {
   "display_name": "Python 3 (ipykernel)",
   "language": "python",
   "name": "python3"
  },
  "language_info": {
   "codemirror_mode": {
    "name": "ipython",
    "version": 3
   },
   "file_extension": ".py",
   "mimetype": "text/x-python",
   "name": "python",
   "nbconvert_exporter": "python",
   "pygments_lexer": "ipython3",
   "version": "3.7.1"
  }
 },
 "nbformat": 4,
 "nbformat_minor": 5
}
