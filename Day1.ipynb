{
 "cells": [
  {
   "cell_type": "code",
   "execution_count": 1,
   "id": "18198d4d",
   "metadata": {},
   "outputs": [],
   "source": [
    "input_dict_array = []\n",
    "file = open(\"Inputs/Day1.txt\", \"r\")\n",
    "sums = [0]\n",
    "counter = 0\n",
    "\n",
    "while(True):\n",
    "    line = file.readline()\n",
    "    if not line:\n",
    "        break\n",
    "    if(line == \"\\n\"):\n",
    "        sums.append(0)\n",
    "        counter = counter + 1\n",
    "    else:\n",
    "        sums[counter] = sums[counter] + int(line.replace(\"\\n\", \"\"))"
   ]
  },
  {
   "cell_type": "code",
   "execution_count": 2,
   "id": "5189c76e",
   "metadata": {},
   "outputs": [
    {
     "data": {
      "text/plain": [
       "66616"
      ]
     },
     "execution_count": 2,
     "metadata": {},
     "output_type": "execute_result"
    }
   ],
   "source": [
    "max(sums)"
   ]
  },
  {
   "cell_type": "code",
   "execution_count": 3,
   "id": "85b51ea9",
   "metadata": {},
   "outputs": [],
   "source": [
    "sums_sorted = sorted(sums, reverse=True)"
   ]
  },
  {
   "cell_type": "code",
   "execution_count": 4,
   "id": "64cc2e1e",
   "metadata": {},
   "outputs": [
    {
     "data": {
      "text/plain": [
       "199172"
      ]
     },
     "execution_count": 4,
     "metadata": {},
     "output_type": "execute_result"
    }
   ],
   "source": [
    "sums_sorted[0] + sums_sorted[1] + sums_sorted[2]"
   ]
  },
  {
   "cell_type": "code",
   "execution_count": null,
   "id": "d9713090",
   "metadata": {},
   "outputs": [],
   "source": []
  }
 ],
 "metadata": {
  "kernelspec": {
   "display_name": "Python 3 (ipykernel)",
   "language": "python",
   "name": "python3"
  },
  "language_info": {
   "codemirror_mode": {
    "name": "ipython",
    "version": 3
   },
   "file_extension": ".py",
   "mimetype": "text/x-python",
   "name": "python",
   "nbconvert_exporter": "python",
   "pygments_lexer": "ipython3",
   "version": "3.7.1"
  }
 },
 "nbformat": 4,
 "nbformat_minor": 5
}
