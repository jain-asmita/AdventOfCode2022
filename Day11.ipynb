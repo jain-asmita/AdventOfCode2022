{
 "cells": [
  {
   "cell_type": "code",
   "execution_count": 1,
   "id": "b8a2c4bc",
   "metadata": {},
   "outputs": [],
   "source": [
    "with open(\"Inputs/Day11.txt\", \"r\") as input:\n",
    "    input = input.read()"
   ]
  },
  {
   "cell_type": "code",
   "execution_count": 2,
   "id": "c94bf1e5",
   "metadata": {},
   "outputs": [],
   "source": [
    "from collections import deque "
   ]
  },
  {
   "cell_type": "code",
   "execution_count": 3,
   "id": "7f3d89e2",
   "metadata": {},
   "outputs": [],
   "source": [
    "class Monkey:\n",
    "    def __init__(self, items, operation, operation_param, divisible_by, throw_to_if_true, throw_to_if_false):\n",
    "        self.items = items\n",
    "        self.operation = operation\n",
    "        self.operation_param = operation_param\n",
    "        self.divisible_by = divisible_by\n",
    "        self.throw_to_if_false = throw_to_if_false\n",
    "        self.throw_to_if_true = throw_to_if_true\n",
    "    \n",
    "    def __str__(self):\n",
    "        return f'items: {self.items}, operation: {self.operation}, operation_param: {self.operation_param}, divisible_by: {self.divisible_by}, throw_to_if_false: {self.throw_to_if_false}, throw_to_if_true: {self.throw_to_if_true}'"
   ]
  },
  {
   "cell_type": "code",
   "execution_count": 4,
   "id": "2e1888ec",
   "metadata": {},
   "outputs": [],
   "source": [
    "def operate(operation, initial, param):\n",
    "    if operation == \"*\":\n",
    "        return initial * param\n",
    "    return initial + param"
   ]
  },
  {
   "cell_type": "code",
   "execution_count": 5,
   "id": "653c174d",
   "metadata": {},
   "outputs": [],
   "source": [
    "def incrementWorry(starting_worry, operation, operation_param):\n",
    "    if operation_param == \"old\":\n",
    "        return operate(operation, starting_worry, starting_worry)\n",
    "    else:\n",
    "        return operate(operation, starting_worry, int(operation_param))"
   ]
  },
  {
   "cell_type": "code",
   "execution_count": 6,
   "id": "3c7382ce",
   "metadata": {},
   "outputs": [],
   "source": [
    "monkeys = []\n",
    "checks_per_monkey = []\n",
    "\n",
    "for monkey_details in input.split('\\n\\n'):\n",
    "    lines = monkey_details.split('\\n')\n",
    "    items = deque(map(int, lines[1].replace(\"  Starting items: \", \"\").split(\",\")))\n",
    "    operation = lines[2].replace(\"  Operation: new = old \", \"\")[0]\n",
    "    operation_param = lines[2].split(\" \")[7]\n",
    "    divisible_by = int(lines[3].replace(\"  Test: divisible by \", \"\"))\n",
    "    throw_to_if_true = int(lines[4].replace(\"    If true: throw to monkey \", \"\"))\n",
    "    throw_to_if_false = int(lines[5].replace(\"    If false: throw to monkey \", \"\"))\n",
    "    monkey = Monkey(items, operation, operation_param, divisible_by, throw_to_if_true, throw_to_if_false)\n",
    "    checks_per_monkey.append(0)\n",
    "    monkeys.append(monkey)"
   ]
  },
  {
   "cell_type": "code",
   "execution_count": 7,
   "id": "e6365f90",
   "metadata": {},
   "outputs": [],
   "source": [
    "monkeysN = len(monkeys)"
   ]
  },
  {
   "cell_type": "code",
   "execution_count": 8,
   "id": "e1bf1ed3",
   "metadata": {},
   "outputs": [],
   "source": [
    "product_of_divisible_by = 1\n",
    "for monkey in monkeys:\n",
    "    product_of_divisible_by = product_of_divisible_by * monkey.divisible_by"
   ]
  },
  {
   "cell_type": "code",
   "execution_count": 9,
   "id": "fcca434a",
   "metadata": {},
   "outputs": [],
   "source": [
    "for i in range(0, 10000):\n",
    "    for monkeyN in range(0, monkeysN):\n",
    "        monkey = monkeys[monkeyN]\n",
    "        num_items = len(monkey.items)   \n",
    "        checks_per_monkey[monkeyN] = checks_per_monkey[monkeyN] + num_items\n",
    "        for itemN in range(0, num_items):\n",
    "            starting_worry = monkey.items[0]\n",
    "            worry_during_inspection = incrementWorry(starting_worry, monkey.operation, monkey.operation_param)\n",
    "            worry_after_inspection = worry_during_inspection % (product_of_divisible_by)\n",
    "            # worry_after_inspection = worry_during_inspection // 3\n",
    "            del monkey.items[0]\n",
    "            if (worry_after_inspection % monkey.divisible_by == 0):\n",
    "                monkeys[monkey.throw_to_if_true].items.append(worry_after_inspection)\n",
    "            else:\n",
    "                monkeys[monkey.throw_to_if_false].items.append(worry_after_inspection)"
   ]
  },
  {
   "cell_type": "code",
   "execution_count": 10,
   "id": "e13a5566",
   "metadata": {},
   "outputs": [
    {
     "data": {
      "text/plain": [
       "[86144, 33194, 85632, 119613, 34063, 119677, 86641, 67095]"
      ]
     },
     "execution_count": 10,
     "metadata": {},
     "output_type": "execute_result"
    }
   ],
   "source": [
    "checks_per_monkey"
   ]
  },
  {
   "cell_type": "code",
   "execution_count": 11,
   "id": "929dddf7",
   "metadata": {},
   "outputs": [
    {
     "data": {
      "text/plain": [
       "14314925001"
      ]
     },
     "execution_count": 11,
     "metadata": {},
     "output_type": "execute_result"
    }
   ],
   "source": [
    "checks_per_monkey = sorted(checks_per_monkey, reverse = True)\n",
    "checks_per_monkey[0] * checks_per_monkey[1]"
   ]
  }
 ],
 "metadata": {
  "kernelspec": {
   "display_name": "Python 3 (ipykernel)",
   "language": "python",
   "name": "python3"
  },
  "language_info": {
   "codemirror_mode": {
    "name": "ipython",
    "version": 3
   },
   "file_extension": ".py",
   "mimetype": "text/x-python",
   "name": "python",
   "nbconvert_exporter": "python",
   "pygments_lexer": "ipython3",
   "version": "3.7.1"
  }
 },
 "nbformat": 4,
 "nbformat_minor": 5
}
