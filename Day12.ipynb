{
 "cells": [
  {
   "cell_type": "code",
   "execution_count": 1,
   "id": "b8724744",
   "metadata": {},
   "outputs": [],
   "source": [
    "with open(\"Inputs/Day12.txt\", \"r\") as input:\n",
    "    input = input.read()"
   ]
  },
  {
   "cell_type": "code",
   "execution_count": 2,
   "id": "1748b638",
   "metadata": {},
   "outputs": [],
   "source": [
    "grid = {}\n",
    "lines_array = input.split(\"\\n\")\n",
    "nLines = len(lines_array)\n",
    "start = set()\n",
    "end = None\n",
    "\n",
    "for lineN in range(0, nLines):\n",
    "    line = lines_array[lineN]\n",
    "    length = len(line)\n",
    "    for position in range(0, length):\n",
    "        letter = line[position]\n",
    "        if letter == \"S\":\n",
    "            letter = \"a\"\n",
    "        if letter == \"a\": #Comment out condition for part 1\n",
    "            start.add(complex(position,lineN))\n",
    "        if letter == \"E\":\n",
    "            end = complex(position,lineN)\n",
    "            letter = \"z\"\n",
    "        grid.update({complex(position,lineN): ord(letter)})"
   ]
  },
  {
   "cell_type": "code",
   "execution_count": 3,
   "id": "b34c8a76",
   "metadata": {},
   "outputs": [],
   "source": [
    "def possibleNextMoves(start):\n",
    "    next_moves = set()\n",
    "    for position in start:\n",
    "        left = position - 1\n",
    "        right = position + 1\n",
    "        up = position + 1j\n",
    "        down = position - 1j\n",
    "        current_elevation = grid.get(position)\n",
    "        if left in grid.keys():\n",
    "            left_elevation = grid.get(left)\n",
    "            if left_elevation <= current_elevation + 1:\n",
    "                next_moves.add(left)\n",
    "        if right in grid.keys():\n",
    "            right_elevation = grid.get(right)\n",
    "            if right_elevation <= current_elevation + 1:\n",
    "                next_moves.add(right)\n",
    "        if up in grid.keys():\n",
    "            up_elevation = grid.get(up)\n",
    "            if up_elevation <= current_elevation + 1:\n",
    "                next_moves.add(up)\n",
    "        if down in grid.keys():\n",
    "            down_elevation = grid.get(down)\n",
    "            if down_elevation <= current_elevation + 1:\n",
    "                next_moves.add(down)\n",
    "    return next_moves"
   ]
  },
  {
   "cell_type": "code",
   "execution_count": 4,
   "id": "161044ff",
   "metadata": {},
   "outputs": [],
   "source": [
    "nsteps = 0\n",
    "while(end not in start):\n",
    "    nsteps += 1\n",
    "    start = possibleNextMoves(start)"
   ]
  },
  {
   "cell_type": "code",
   "execution_count": 5,
   "id": "e95315c4",
   "metadata": {},
   "outputs": [
    {
     "data": {
      "text/plain": [
       "418"
      ]
     },
     "execution_count": 5,
     "metadata": {},
     "output_type": "execute_result"
    }
   ],
   "source": [
    "nsteps"
   ]
  }
 ],
 "metadata": {
  "kernelspec": {
   "display_name": "Python 3 (ipykernel)",
   "language": "python",
   "name": "python3"
  },
  "language_info": {
   "codemirror_mode": {
    "name": "ipython",
    "version": 3
   },
   "file_extension": ".py",
   "mimetype": "text/x-python",
   "name": "python",
   "nbconvert_exporter": "python",
   "pygments_lexer": "ipython3",
   "version": "3.7.1"
  }
 },
 "nbformat": 4,
 "nbformat_minor": 5
}
