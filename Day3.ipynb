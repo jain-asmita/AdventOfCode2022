{
 "cells": [
  {
   "cell_type": "code",
   "execution_count": 9,
   "id": "4381a56c",
   "metadata": {},
   "outputs": [],
   "source": [
    "def letterScore(letter):\n",
    "    if letter.isupper():\n",
    "        return ord(letter) - 38\n",
    "    return ord(letter) - 96"
   ]
  },
  {
   "cell_type": "code",
   "execution_count": 10,
   "id": "e2b59eb2",
   "metadata": {},
   "outputs": [],
   "source": [
    "def commonLetter(string1, string2):\n",
    "    for letter in string1:\n",
    "        if letter in string2:\n",
    "            return letter\n",
    "    return \"\""
   ]
  },
  {
   "cell_type": "code",
   "execution_count": 11,
   "id": "a1e2eba3",
   "metadata": {},
   "outputs": [
    {
     "data": {
      "text/plain": [
       "8298"
      ]
     },
     "execution_count": 11,
     "metadata": {},
     "output_type": "execute_result"
    }
   ],
   "source": [
    "with open(\"Inputs/Day3.txt\", \"r\") as input:\n",
    "    input = input.read()\n",
    "rucksacks = input.split(\"\\n\")\n",
    "scores = []\n",
    "\n",
    "for items in rucksacks:\n",
    "    length_each_rucksack = len(items) // 2\n",
    "    rucksack1 = items[:length_each_rucksack]\n",
    "    rucksack2 = items[length_each_rucksack:]\n",
    "    scores.append(letterScore(commonLetter(rucksack1, rucksack2)))\n",
    "    \n",
    "sum(scores)"
   ]
  },
  {
   "cell_type": "code",
   "execution_count": 12,
   "id": "a0b10ec6",
   "metadata": {},
   "outputs": [],
   "source": [
    "def commonLetterThree(string1, string2, string3):\n",
    "    for letter in string1:\n",
    "        if letter in string2 and letter in string3:\n",
    "            return letter\n",
    "\n",
    "    return \"\""
   ]
  },
  {
   "cell_type": "code",
   "execution_count": 13,
   "id": "380ccc69",
   "metadata": {},
   "outputs": [
    {
     "data": {
      "text/plain": [
       "2708"
      ]
     },
     "execution_count": 13,
     "metadata": {},
     "output_type": "execute_result"
    }
   ],
   "source": [
    "scores_part_2 = []\n",
    "\n",
    "for index in range (0, len(rucksacks), 3):\n",
    "    rucksack1 = rucksacks[index]\n",
    "    rucksack2 = rucksacks[index + 1]\n",
    "    rucksack3 = rucksacks[index + 2]\n",
    "    scores_part_2.append(letterScore(commonLetterThree(rucksack1, rucksack2, rucksack3)))\n",
    "sum(scores_part_2)"
   ]
  }
 ],
 "metadata": {
  "kernelspec": {
   "display_name": "Python 3 (ipykernel)",
   "language": "python",
   "name": "python3"
  },
  "language_info": {
   "codemirror_mode": {
    "name": "ipython",
    "version": 3
   },
   "file_extension": ".py",
   "mimetype": "text/x-python",
   "name": "python",
   "nbconvert_exporter": "python",
   "pygments_lexer": "ipython3",
   "version": "3.7.1"
  }
 },
 "nbformat": 4,
 "nbformat_minor": 5
}
