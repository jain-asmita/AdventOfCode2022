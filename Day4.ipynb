{
 "cells": [
  {
   "cell_type": "code",
   "execution_count": 13,
   "id": "ef8d5f8e",
   "metadata": {},
   "outputs": [],
   "source": [
    "with open(\"Inputs/Day4.txt\", \"r\") as input:\n",
    "    input = input.read()\n",
    "pairs = input.split(\"\\n\")"
   ]
  },
  {
   "cell_type": "code",
   "execution_count": 14,
   "id": "46ad006c",
   "metadata": {},
   "outputs": [],
   "source": [
    "def isFullyContained(start1, stop1, start2, stop2):\n",
    "    if(start1 <= start2):\n",
    "        if(stop1>=stop2):\n",
    "            return True\n",
    "    if(start2 <= start1):\n",
    "        if(stop2>=stop1):\n",
    "            return True\n",
    "    return False"
   ]
  },
  {
   "cell_type": "code",
   "execution_count": 15,
   "id": "6a97adde",
   "metadata": {},
   "outputs": [],
   "source": [
    "def anyOverlap(start1, stop1, start2, stop2):\n",
    "    if(start1 <= start2):\n",
    "        if(stop1 >= start2):\n",
    "            return True\n",
    "    if(start2 <= start1):\n",
    "        if(stop2 >= start1):\n",
    "            return True\n",
    "    return False"
   ]
  },
  {
   "cell_type": "code",
   "execution_count": 16,
   "id": "2e0da9eb",
   "metadata": {},
   "outputs": [
    {
     "name": "stdout",
     "output_type": "stream",
     "text": [
      "498\n",
      "859\n"
     ]
    }
   ],
   "source": [
    "num_pairs = 0\n",
    "num_pairs_p2 = 0\n",
    "for pair in pairs:\n",
    "    assignments = pair.split(\",\")\n",
    "    start1 = int(assignments[0].split(\"-\")[0])\n",
    "    stop1 = int(assignments[0].split(\"-\")[1])\n",
    "    start2 = int(assignments[1].split(\"-\")[0])\n",
    "    stop2 = int(assignments[1].split(\"-\")[1])  \n",
    "    if isFullyContained(start1, stop1, start2, stop2):\n",
    "        num_pairs += 1\n",
    "    if anyOverlap(start1, stop1, start2, stop2):\n",
    "        num_pairs_p2 += 1\n",
    "print(num_pairs)\n",
    "print(num_pairs_p2)"
   ]
  }
 ],
 "metadata": {
  "kernelspec": {
   "display_name": "Python 3 (ipykernel)",
   "language": "python",
   "name": "python3"
  },
  "language_info": {
   "codemirror_mode": {
    "name": "ipython",
    "version": 3
   },
   "file_extension": ".py",
   "mimetype": "text/x-python",
   "name": "python",
   "nbconvert_exporter": "python",
   "pygments_lexer": "ipython3",
   "version": "3.7.1"
  }
 },
 "nbformat": 4,
 "nbformat_minor": 5
}
