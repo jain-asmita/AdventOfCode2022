{
 "cells": [
  {
   "cell_type": "code",
   "execution_count": 1,
   "id": "9c0fe0c5",
   "metadata": {},
   "outputs": [],
   "source": [
    "with open(\"Inputs/Day5.txt\", \"r\") as input:\n",
    "    input = input.read()\n",
    "input_setup, input_instructions = input.split(\"\\n\\n\")"
   ]
  },
  {
   "cell_type": "code",
   "execution_count": 2,
   "id": "4bb48a72",
   "metadata": {},
   "outputs": [],
   "source": [
    "def createList():\n",
    "    stacks_list = [[],[],[],[],[],[],[],[],[]]\n",
    "    line_n = 0\n",
    "    for line in input_setup.split(\"\\n\"):\n",
    "        if line_n < 8:\n",
    "            list_n = 0\n",
    "            for index in range(0, len(line), 4):\n",
    "                letter = line[index:index+4].replace(\"[\",\"\").replace(\"]\",\"\").replace(\" \",\"\")\n",
    "                if letter != \"\":\n",
    "                    stacks_list[list_n].append(letter)\n",
    "                list_n += 1\n",
    "        line_n += 1\n",
    "    stacks = []\n",
    "    for list_n in stacks_list:\n",
    "        list_n.reverse()\n",
    "        stacks.append(list_n)\n",
    "    return stacks"
   ]
  },
  {
   "cell_type": "code",
   "execution_count": 3,
   "id": "70b8a25a",
   "metadata": {},
   "outputs": [],
   "source": [
    "stacks = createList()\n",
    "for line in input_instructions.split(\"\\n\"):\n",
    "    num_crates_to_move = int(line.split(\" \")[1])\n",
    "    stack_to_move_from = int(line.split(\" \")[3]) - 1\n",
    "    stack_to_move_to = int(line.split(\" \")[5]) - 1\n",
    "    for i in range(0,num_crates_to_move):\n",
    "        stack_len = len(stacks[stack_to_move_from])\n",
    "        letter = stacks[stack_to_move_from].pop(stack_len - 1)\n",
    "        stacks[stack_to_move_to].append(letter)"
   ]
  },
  {
   "cell_type": "code",
   "execution_count": 4,
   "id": "e3bbe796",
   "metadata": {},
   "outputs": [
    {
     "name": "stdout",
     "output_type": "stream",
     "text": [
      "CVCWCRTVQ"
     ]
    }
   ],
   "source": [
    "for i in stacks:\n",
    "    print(i[-1],end = '')"
   ]
  },
  {
   "cell_type": "code",
   "execution_count": 5,
   "id": "56dabe56",
   "metadata": {},
   "outputs": [
    {
     "name": "stdout",
     "output_type": "stream",
     "text": [
      "CNSCZWLVT"
     ]
    }
   ],
   "source": [
    "stacks = createList()\n",
    "for line in input_instructions.split(\"\\n\"):\n",
    "    num_crates_to_move = int(line.split(\" \")[1])\n",
    "    stack_to_move_from = int(line.split(\" \")[3]) - 1\n",
    "    stack_to_move_to = int(line.split(\" \")[5]) - 1\n",
    "    len_stack = len(stacks[stack_to_move_from])\n",
    "    crates = stacks[stack_to_move_from][(len_stack-num_crates_to_move):]\n",
    "    stacks[stack_to_move_from] = stacks[stack_to_move_from][:len_stack-num_crates_to_move]\n",
    "    stacks[stack_to_move_to] = stacks[stack_to_move_to] + crates\n",
    "for i in stacks:\n",
    "    print(i[-1],end = '')"
   ]
  }
 ],
 "metadata": {
  "kernelspec": {
   "display_name": "Python 3 (ipykernel)",
   "language": "python",
   "name": "python3"
  },
  "language_info": {
   "codemirror_mode": {
    "name": "ipython",
    "version": 3
   },
   "file_extension": ".py",
   "mimetype": "text/x-python",
   "name": "python",
   "nbconvert_exporter": "python",
   "pygments_lexer": "ipython3",
   "version": "3.7.1"
  }
 },
 "nbformat": 4,
 "nbformat_minor": 5
}
