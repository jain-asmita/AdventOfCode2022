{
 "cells": [
  {
   "cell_type": "code",
   "execution_count": 1,
   "id": "55fcfb16",
   "metadata": {},
   "outputs": [],
   "source": [
    "with open(\"Inputs/Day6.txt\", \"r\") as input:\n",
    "    input = input.read()"
   ]
  },
  {
   "cell_type": "code",
   "execution_count": 2,
   "id": "4b8cd8de",
   "metadata": {},
   "outputs": [],
   "source": [
    "def distinctNLetters(n):\n",
    "    for i in range(0,len(input)):\n",
    "        most_recent_four = set()\n",
    "        for i2 in range(i, i+n):\n",
    "            most_recent_four.add(input[i2])\n",
    "        if len(most_recent_four) == n:\n",
    "            print(i+n)\n",
    "            break"
   ]
  },
  {
   "cell_type": "code",
   "execution_count": 3,
   "id": "a9e046e3",
   "metadata": {},
   "outputs": [
    {
     "name": "stdout",
     "output_type": "stream",
     "text": [
      "1300\n"
     ]
    }
   ],
   "source": [
    "distinctNLetters(4)"
   ]
  },
  {
   "cell_type": "code",
   "execution_count": 4,
   "id": "3fe0dd1d",
   "metadata": {},
   "outputs": [
    {
     "name": "stdout",
     "output_type": "stream",
     "text": [
      "3986\n"
     ]
    }
   ],
   "source": [
    "distinctNLetters(14)"
   ]
  }
 ],
 "metadata": {
  "kernelspec": {
   "display_name": "Python 3 (ipykernel)",
   "language": "python",
   "name": "python3"
  },
  "language_info": {
   "codemirror_mode": {
    "name": "ipython",
    "version": 3
   },
   "file_extension": ".py",
   "mimetype": "text/x-python",
   "name": "python",
   "nbconvert_exporter": "python",
   "pygments_lexer": "ipython3",
   "version": "3.7.1"
  }
 },
 "nbformat": 4,
 "nbformat_minor": 5
}
