{
 "cells": [
  {
   "cell_type": "code",
   "execution_count": 1,
   "id": "17839975",
   "metadata": {},
   "outputs": [],
   "source": [
    "with open(\"Inputs/Day7.txt\", \"r\") as input:\n",
    "    input = input.read()"
   ]
  },
  {
   "cell_type": "code",
   "execution_count": 2,
   "id": "855417d2",
   "metadata": {},
   "outputs": [],
   "source": [
    "class Tree:\n",
    "    def __init__(self, name, parent = None):\n",
    "        self.children = []\n",
    "        self.name = name\n",
    "        self.value = 0\n",
    "        self.parent = parent\n",
    "        \n",
    "    def __str__(self):\n",
    "        val = f'name: {self.name} parent: ({self.parent}) value: {self.value} children: ('\n",
    "        for c in self.children:\n",
    "            val += c.name\n",
    "            val += ' '\n",
    "        return val + ')'"
   ]
  },
  {
   "cell_type": "code",
   "execution_count": 3,
   "id": "026d4c1b",
   "metadata": {},
   "outputs": [],
   "source": [
    "def populate(lineN, tree):\n",
    "    if lineN >= nLines:\n",
    "        return findUpperMost(tree)\n",
    "    line = input_byLine[lineN]\n",
    "    if line.startswith(\"$ cd ..\"):\n",
    "        return populate(lineN + 1, tree.parent)\n",
    "    elif line.startswith(\"$ cd \"):\n",
    "        dirname = line.replace(\"$ cd \", \"\")\n",
    "        return populate(lineN + 2, findChild(tree, tree.children, dirname))\n",
    "    elif line.startswith(\"dir\"):\n",
    "        dirname = line.replace(\"dir \", \"\")\n",
    "        tree.children.append(Tree(dirname, parent = tree))\n",
    "        return populate(lineN + 1, tree)\n",
    "    else:\n",
    "        tree.value += int(line.split(\" \")[0])\n",
    "        return populate(lineN + 1, tree)"
   ]
  },
  {
   "cell_type": "code",
   "execution_count": 4,
   "id": "c649572c",
   "metadata": {},
   "outputs": [],
   "source": [
    "def findChild(tree_orig, treeList, name):\n",
    "    for tree in treeList:\n",
    "        if tree.name == name:\n",
    "            return tree\n",
    "    return tree_orig"
   ]
  },
  {
   "cell_type": "code",
   "execution_count": 5,
   "id": "182bc2cd",
   "metadata": {},
   "outputs": [],
   "source": [
    "def findUpperMost(tree):\n",
    "    if tree.parent is None:\n",
    "        return tree\n",
    "    else:\n",
    "        return findUpperMost(tree.parent)"
   ]
  },
  {
   "cell_type": "code",
   "execution_count": 6,
   "id": "7ca2b664",
   "metadata": {},
   "outputs": [],
   "source": [
    "def populate_dict(points_dict, tree):\n",
    "    if tree.children == []:\n",
    "        points_dict.update({tree: tree.value})\n",
    "        populate_dict(points_dict, tree.parent)\n",
    "    elif allChildrenInDict(points_dict, tree):\n",
    "        points_dict.update({tree: sumChildrenValues(points_dict, tree)})\n",
    "        if tree in points_dict.keys() and tree.parent is None:\n",
    "            return points_dict\n",
    "        populate_dict(points_dict, tree.parent)\n",
    "    else:\n",
    "        for child in tree.children:\n",
    "            if child not in points_dict.keys():\n",
    "                populate_dict(points_dict, child)\n",
    "    return points_dict"
   ]
  },
  {
   "cell_type": "code",
   "execution_count": 7,
   "id": "2df2ea71",
   "metadata": {},
   "outputs": [],
   "source": [
    "def allChildrenInDict(points_dict, tree):\n",
    "    for child in tree.children:\n",
    "        if child not in points_dict.keys():\n",
    "            return False\n",
    "    return True"
   ]
  },
  {
   "cell_type": "code",
   "execution_count": 8,
   "id": "4c6fb87a",
   "metadata": {},
   "outputs": [],
   "source": [
    "def sumChildrenValues(points_dict, tree):\n",
    "    returnval = tree.value\n",
    "    for child in tree.children:\n",
    "        returnval += points_dict.get(child)\n",
    "    return returnval"
   ]
  },
  {
   "cell_type": "code",
   "execution_count": 9,
   "id": "4496bdd1",
   "metadata": {},
   "outputs": [],
   "source": [
    "input_byLine = input.split(\"\\n\")\n",
    "tree = Tree(\"/\")\n",
    "lineN = 0\n",
    "nLines = len(input_byLine)\n",
    "tree = populate(lineN, tree)"
   ]
  },
  {
   "cell_type": "code",
   "execution_count": 10,
   "id": "d0b2fbaa",
   "metadata": {},
   "outputs": [],
   "source": [
    "points_dict = {}\n",
    "points_dict = populate_dict(points_dict, tree)"
   ]
  },
  {
   "cell_type": "code",
   "execution_count": 11,
   "id": "2ba12a37",
   "metadata": {},
   "outputs": [
    {
     "data": {
      "text/plain": [
       "1428881"
      ]
     },
     "execution_count": 11,
     "metadata": {},
     "output_type": "execute_result"
    }
   ],
   "source": [
    "p1 = 0\n",
    "for size in points_dict.values():\n",
    "    if size <= 100000:\n",
    "        p1 += size\n",
    "p1"
   ]
  },
  {
   "cell_type": "code",
   "execution_count": 12,
   "id": "12dd9771",
   "metadata": {},
   "outputs": [],
   "source": [
    "min_size = max(points_dict.values()) - 40000000"
   ]
  },
  {
   "cell_type": "code",
   "execution_count": 13,
   "id": "941599cf",
   "metadata": {},
   "outputs": [
    {
     "data": {
      "text/plain": [
       "10475598"
      ]
     },
     "execution_count": 13,
     "metadata": {},
     "output_type": "execute_result"
    }
   ],
   "source": [
    "pt2 = 70000000\n",
    "for i in points_dict.values():\n",
    "    if i >= min_size and i < pt2:\n",
    "        pt2 = i\n",
    "pt2"
   ]
  }
 ],
 "metadata": {
  "kernelspec": {
   "display_name": "Python 3 (ipykernel)",
   "language": "python",
   "name": "python3"
  },
  "language_info": {
   "codemirror_mode": {
    "name": "ipython",
    "version": 3
   },
   "file_extension": ".py",
   "mimetype": "text/x-python",
   "name": "python",
   "nbconvert_exporter": "python",
   "pygments_lexer": "ipython3",
   "version": "3.7.1"
  }
 },
 "nbformat": 4,
 "nbformat_minor": 5
}
