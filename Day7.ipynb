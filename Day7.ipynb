{
 "cells": [
  {
   "cell_type": "code",
   "execution_count": 1,
   "id": "757a31da",
   "metadata": {},
   "outputs": [],
   "source": [
    "with open(\"Inputs/Day7.txt\", \"r\") as input:\n",
    "    input = input.read()"
   ]
  },
  {
   "cell_type": "code",
   "execution_count": null,
   "id": "a8d025f4",
   "metadata": {},
   "outputs": [],
   "source": [
    "class Tree:\n",
    "    def __init__(self, name, parent = None):\n",
    "        self.children = []\n",
    "        self.name = name\n",
    "        self.value = 0\n",
    "        self.parent = parent\n",
    "        \n",
    "    def __str__(self):\n",
    "        val = f'name: {self.name} parent: ({self.parent}) value: {self.value} children: ('\n",
    "        for c in self.children:\n",
    "            val += c.name\n",
    "            val += ' '\n",
    "        return val + ')'"
   ]
  },
  {
   "cell_type": "code",
   "execution_count": null,
   "id": "ac48181a",
   "metadata": {},
   "outputs": [],
   "source": []
  },
  {
   "cell_type": "code",
   "execution_count": null,
   "id": "383937fb",
   "metadata": {},
   "outputs": [],
   "source": []
  },
  {
   "cell_type": "code",
   "execution_count": null,
   "id": "358c4923",
   "metadata": {},
   "outputs": [],
   "source": []
  },
  {
   "cell_type": "code",
   "execution_count": null,
   "id": "b0c46124",
   "metadata": {},
   "outputs": [],
   "source": []
  },
  {
   "cell_type": "code",
   "execution_count": null,
   "id": "4af05408",
   "metadata": {},
   "outputs": [],
   "source": []
  },
  {
   "cell_type": "code",
   "execution_count": 2,
   "id": "ba5eec27",
   "metadata": {},
   "outputs": [],
   "source": [
    "def populate_dict(points_dict, tree):\n",
    "    if tree.children == []:\n",
    "        points_dict.update({tree: tree.value})\n",
    "        populate_dict(points_dict, tree.parent)\n",
    "    elif allChildrenInDict(points_dict, tree):\n",
    "        points_dict.update({tree: sumChildrenValues(points_dict, tree)})\n",
    "        if tree in points_dict.keys() and tree.parent is None:\n",
    "            return points_dict\n",
    "        populate_dict(points_dict, tree.parent)\n",
    "    else:\n",
    "        for child in tree.children:\n",
    "            if child not in points_dict.keys():\n",
    "                populate_dict(points_dict, child)\n",
    "    return points_dict"
   ]
  },
  {
   "cell_type": "code",
   "execution_count": 3,
   "id": "0cbea3e4",
   "metadata": {},
   "outputs": [],
   "source": [
    "def allChildrenInDict(points_dict, tree):\n",
    "    for child in tree.children:\n",
    "        if child not in points_dict.keys():\n",
    "            return False\n",
    "    return True"
   ]
  },
  {
   "cell_type": "code",
   "execution_count": 4,
   "id": "bffd459c",
   "metadata": {},
   "outputs": [],
   "source": [
    "def sumChildrenValues(points_dict, tree):\n",
    "    returnval = tree.value\n",
    "    for child in tree.children:\n",
    "        returnval += points_dict.get(child)\n",
    "    return returnval"
   ]
  },
  {
   "cell_type": "code",
   "execution_count": 5,
   "id": "6c060639",
   "metadata": {},
   "outputs": [],
   "source": [
    "class Tree:\n",
    "    def __init__(self, name, parent = None):\n",
    "        self.children = []\n",
    "        self.name = name\n",
    "        self.value = 0\n",
    "        self.parent = parent\n",
    "        \n",
    "    def __str__(self):\n",
    "        val = f'name: {self.name} parent: ({self.parent}) value: {self.value} children: ('\n",
    "        for c in self.children:\n",
    "            val += c.name\n",
    "            val += ' '\n",
    "        return val + ')'"
   ]
  },
  {
   "cell_type": "code",
   "execution_count": 6,
   "id": "c3b93853",
   "metadata": {},
   "outputs": [],
   "source": [
    "def populate(lineN, tree):\n",
    "    if lineN >= nLines:\n",
    "        return findUpperMost(tree)\n",
    "    line = input_byLine[lineN]\n",
    "    if line.startswith(\"$ cd ..\"):\n",
    "        return populate(lineN + 1, tree.parent)\n",
    "    elif line.startswith(\"$ cd \"):\n",
    "        dirname = line.replace(\"$ cd \", \"\")\n",
    "        return populate(lineN + 2, findChild(tree, tree.children, dirname))\n",
    "    elif line.startswith(\"dir\"):\n",
    "        dirname = line.replace(\"dir \", \"\")\n",
    "        tree.children.append(Tree(dirname, parent = tree))\n",
    "        return populate(lineN + 1, tree)\n",
    "    else:\n",
    "        tree.value += int(line.split(\" \")[0])\n",
    "        return populate(lineN + 1, tree)\n",
    "        "
   ]
  },
  {
   "cell_type": "code",
   "execution_count": 7,
   "id": "0ecb136b",
   "metadata": {},
   "outputs": [],
   "source": [
    "def findChild(tree_orig, treeList, name):\n",
    "    for tree in treeList:\n",
    "        if tree.name == name:\n",
    "            return tree\n",
    "    return tree_orig"
   ]
  },
  {
   "cell_type": "code",
   "execution_count": 8,
   "id": "f9433731",
   "metadata": {},
   "outputs": [],
   "source": [
    "def findUpperMost(tree):\n",
    "    if tree.parent is None:\n",
    "        return tree\n",
    "    else:\n",
    "        return findUpperMost(tree.parent)\n",
    "            "
   ]
  },
  {
   "cell_type": "code",
   "execution_count": 9,
   "id": "cdfec4d1",
   "metadata": {},
   "outputs": [
    {
     "name": "stdout",
     "output_type": "stream",
     "text": [
      "name: / parent: (None) value: 608334 children: (gnpd jsv mfhzl nljtr nwzp rfwwwgr sbnhc zhfl )\n"
     ]
    }
   ],
   "source": [
    "input_byLine = input.split(\"\\n\")\n",
    "tree = Tree(\"/\")\n",
    "lineN = 0\n",
    "nLines = len(input_byLine)\n",
    "tree = populate(lineN, tree)\n",
    "print(tree)"
   ]
  },
  {
   "cell_type": "code",
   "execution_count": 10,
   "id": "3fa0abf7",
   "metadata": {},
   "outputs": [],
   "source": [
    "points_dict = {}\n",
    "points_dict = populate_dict(points_dict, tree)"
   ]
  },
  {
   "cell_type": "code",
   "execution_count": 11,
   "id": "53e49b08",
   "metadata": {},
   "outputs": [
    {
     "data": {
      "text/plain": [
       "1428881"
      ]
     },
     "execution_count": 11,
     "metadata": {},
     "output_type": "execute_result"
    }
   ],
   "source": [
    "p1 = 0\n",
    "for size in points_dict.values():\n",
    "    if size <= 100000:\n",
    "        p1 += size\n",
    "p1"
   ]
  },
  {
   "cell_type": "code",
   "execution_count": 12,
   "id": "bcd21c28",
   "metadata": {},
   "outputs": [],
   "source": [
    "min_size = 48518336 - 40000000"
   ]
  },
  {
   "cell_type": "code",
   "execution_count": 13,
   "id": "57a07115",
   "metadata": {},
   "outputs": [
    {
     "data": {
      "text/plain": [
       "10475598"
      ]
     },
     "execution_count": 13,
     "metadata": {},
     "output_type": "execute_result"
    }
   ],
   "source": [
    "pt2 = 70000000\n",
    "for i in points_dict.values():\n",
    "    if i >= min_size and i < pt2:\n",
    "        pt2 = i\n",
    "pt2"
   ]
  },
  {
   "cell_type": "code",
   "execution_count": null,
   "id": "6cdbc6cf",
   "metadata": {},
   "outputs": [],
   "source": []
  }
 ],
 "metadata": {
  "kernelspec": {
   "display_name": "Python 3 (ipykernel)",
   "language": "python",
   "name": "python3"
  },
  "language_info": {
   "codemirror_mode": {
    "name": "ipython",
    "version": 3
   },
   "file_extension": ".py",
   "mimetype": "text/x-python",
   "name": "python",
   "nbconvert_exporter": "python",
   "pygments_lexer": "ipython3",
   "version": "3.7.1"
  }
 },
 "nbformat": 4,
 "nbformat_minor": 5
}
